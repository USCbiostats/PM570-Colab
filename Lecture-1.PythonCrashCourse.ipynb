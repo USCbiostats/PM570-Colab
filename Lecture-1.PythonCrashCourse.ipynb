{
  "nbformat": 4,
  "nbformat_minor": 0,
  "metadata": {
    "colab": {
      "provenance": [],
      "authorship_tag": "ABX9TyMOLsshyjgDqR3c456O3S3Y",
      "include_colab_link": true
    },
    "kernelspec": {
      "name": "python3",
      "display_name": "Python 3"
    },
    "language_info": {
      "name": "python"
    }
  },
  "cells": [
    {
      "cell_type": "markdown",
      "metadata": {
        "id": "view-in-github",
        "colab_type": "text"
      },
      "source": [
        "<a href=\"https://colab.research.google.com/github/USCbiostats/PM570-Colab/blob/main/Lecture-1.PythonCrashCourse.ipynb\" target=\"_parent\"><img src=\"https://colab.research.google.com/assets/colab-badge.svg\" alt=\"Open In Colab\"/></a>"
      ]
    },
    {
      "cell_type": "code",
      "execution_count": null,
      "metadata": {
        "colab": {
          "base_uri": "https://localhost:8080/"
        },
        "id": "ZQzcVG_hd-y1",
        "outputId": "f3ece97b-9995-4a23-ce93-fae80d2b42ff"
      },
      "outputs": [
        {
          "output_type": "stream",
          "name": "stdout",
          "text": [
            "10\n",
            "4.0\n",
            "hello world\n"
          ]
        }
      ],
      "source": [
        "print(5+5)\n",
        "print(2 / 0.5)\n",
        "print(\"hello world\")"
      ]
    },
    {
      "cell_type": "markdown",
      "source": [
        "Oh hi there, PM570, this is our initial colab experience! What a wonder!"
      ],
      "metadata": {
        "id": "FoRyQ3LDfh7q"
      }
    },
    {
      "cell_type": "code",
      "source": [
        "my_string = \"hey this is a nice string\"\n",
        "my_int = 5 + 5\n",
        "my_big_int = 1_000_000\n",
        "\n",
        "print(my_string)\n",
        "print(my_int)\n",
        "print(my_big_int) # here i print the big integer; yay python\n",
        "\n",
        "#my_string + my_int\n",
        "\n",
        "my_bool = False # Big if True\n",
        "print(my_bool)\n",
        "\n",
        "\"\"\"\n",
        "this is a huge comment that\n",
        "spans multiple lines! Wow!\n",
        "This is the coolest! Deal with it.\n",
        "\"\"\""
      ],
      "metadata": {
        "colab": {
          "base_uri": "https://localhost:8080/",
          "height": 107
        },
        "id": "4-fs-gp2fwIk",
        "outputId": "62f544b1-3ad4-4505-eec0-8e3165955f2e"
      },
      "execution_count": null,
      "outputs": [
        {
          "output_type": "stream",
          "name": "stdout",
          "text": [
            "hey this is a nice string\n",
            "10\n",
            "1000000\n",
            "False\n"
          ]
        },
        {
          "output_type": "execute_result",
          "data": {
            "text/plain": [
              "'\\nthis is a huge comment that\\nspans multiple lines! Wow!\\nThis is the coolest! Deal with it.\\n'"
            ],
            "application/vnd.google.colaboratory.intrinsic+json": {
              "type": "string"
            }
          },
          "metadata": {},
          "execution_count": 15
        }
      ]
    },
    {
      "cell_type": "markdown",
      "source": [
        "# now we get to learn the real deal! control structures! Yikes. ⛹"
      ],
      "metadata": {
        "id": "7AfYxlgaiK4A"
      }
    },
    {
      "cell_type": "code",
      "source": [
        "my_int = 5\n",
        "my_bool_expr = my_int == 5\n",
        "\n",
        "# here we see an 'if statement'\n",
        "if my_bool_expr:\n",
        "  print(\"Whaddup\")\n",
        "  print(\"still True, right?\")\n",
        "\n",
        "\"\"\" in R ->\n",
        "if (my_bool_expr) {\n",
        "  print('whaddup')\n",
        "}\n",
        "\"\"\"\n",
        "my_new_int = 3\n",
        "my_bool_expr = (my_new_int % 2) == 0\n",
        "if my_bool_expr:\n",
        "  print(\"Even number, all day\")\n",
        "else:\n",
        "  print(\"Odd numbers are okay tho\")\n",
        "\n",
        "# let's learn about lists, and if/elif/else statements\n",
        "my_new_str = \"asdfads\"\n",
        "my_good_days = [\"Friday\", \"Saturday\", \"Sunday\"]\n",
        "my_bad_days = [\"Monday\", \"Tuesday\"]\n",
        "my_okay_days = [\"Wednesday\", \"Thursday\"]\n",
        "\n",
        "if my_new_str in my_good_days:\n",
        "  print(\"Aw yeah, party time\")\n",
        "elif my_new_str in my_bad_days:\n",
        "  print(\"Oh no!\")\n",
        "elif my_new_str in my_okay_days:\n",
        "  print(\"Not bad, actually\")\n",
        "else:\n",
        "  print(\"What day is this?\")"
      ],
      "metadata": {
        "colab": {
          "base_uri": "https://localhost:8080/"
        },
        "id": "kDZRPq8GiZEW",
        "outputId": "e26ebbbe-c310-4d30-d189-363aa02c5252"
      },
      "execution_count": null,
      "outputs": [
        {
          "output_type": "stream",
          "name": "stdout",
          "text": [
            "Whaddup\n",
            "still True, right?\n",
            "Odd numbers are okay tho\n",
            "What day is this?\n"
          ]
        }
      ]
    },
    {
      "cell_type": "code",
      "source": [
        "# lists and for loops\n",
        "my_list = [1, 2, 3, 4, \"5\", 6, \"7, 8, 9, 10\"]\n",
        "print(len(my_list))\n",
        "print(\"loop incoming\")\n",
        "for elem in my_list:\n",
        "  print(elem)\n",
        "\n",
        "print(\"loop done\")\n",
        "for elem in range(2, 8):\n",
        "  print(elem)\n",
        "\n",
        "print(my_list[1]) # Python is 0-based indexing; too bad so sad\n",
        "\n",
        "for elem in range(len(my_list)):\n",
        "  print(elem, my_list[elem])\n",
        "\n",
        "print(\"spacer\")\n",
        "for idx, elem in enumerate(my_list):\n",
        "  print(idx, elem)\n",
        "print(\"enumerate done\")\n",
        "list(enumerate(my_list))\n",
        "enumerate(my_list)"
      ],
      "metadata": {
        "colab": {
          "base_uri": "https://localhost:8080/"
        },
        "id": "xXT8Q0EQl2s2",
        "outputId": "73fab0b9-f517-4d48-fe72-6406cec5b957"
      },
      "execution_count": null,
      "outputs": [
        {
          "output_type": "stream",
          "name": "stdout",
          "text": [
            "7\n",
            "loop incoming\n",
            "1\n",
            "2\n",
            "3\n",
            "4\n",
            "5\n",
            "6\n",
            "7, 8, 9, 10\n",
            "loop done\n",
            "2\n",
            "3\n",
            "4\n",
            "5\n",
            "6\n",
            "7\n",
            "2\n",
            "0 1\n",
            "1 2\n",
            "2 3\n",
            "3 4\n",
            "4 5\n",
            "5 6\n",
            "6 7, 8, 9, 10\n",
            "spacer\n",
            "0 1\n",
            "1 2\n",
            "2 3\n",
            "3 4\n",
            "4 5\n",
            "5 6\n",
            "6 7, 8, 9, 10\n",
            "enumerate done\n"
          ]
        },
        {
          "output_type": "execute_result",
          "data": {
            "text/plain": [
              "<enumerate at 0x7f2d601d8a40>"
            ]
          },
          "metadata": {},
          "execution_count": 37
        }
      ]
    },
    {
      "cell_type": "code",
      "source": [
        "# dictionaries and while loops\n",
        "my_dict = {\"a\":5, \"b\":10}\n",
        "print(\"a\" in my_dict)\n",
        "print(my_dict[\"a\"])\n",
        "\n",
        "total = 0\n",
        "while total < 1000:\n",
        "  total += my_dict[\"a\"] # total = total + my_dict[\"a\"]\n",
        "  total *= my_dict[\"b\"]\n",
        "print(total)\n",
        "#print(my_dict[\"abcd\"])\n",
        "\n",
        "# logic time\n",
        "total = 1\n",
        "other_var = 2\n",
        "while total < 1000 or other_var < 500:\n",
        "  total *= 5\n",
        "  other_var *= 1.5\n",
        "print(total, other_var)\n",
        "\n",
        "total = 1\n",
        "while 0 <= total <= 1000:\n",
        "    total *= 5"
      ],
      "metadata": {
        "colab": {
          "base_uri": "https://localhost:8080/"
        },
        "id": "iAtxZWrPo1kf",
        "outputId": "c416876c-492c-46d9-8163-e1af7d5bfaa9"
      },
      "execution_count": null,
      "outputs": [
        {
          "output_type": "stream",
          "name": "stdout",
          "text": [
            "True\n",
            "5\n",
            "5550\n",
            "6103515625 583.8585205078125\n"
          ]
        }
      ]
    },
    {
      "cell_type": "markdown",
      "source": [
        "# FUNCTIONS! RAWWWR"
      ],
      "metadata": {
        "id": "_6xS5l67sYeZ"
      }
    },
    {
      "cell_type": "code",
      "source": [
        "\"\"\" myFunc <- function(var1, var2) {\n",
        "  ...\n",
        "}\n",
        "\"\"\"\n",
        "# simple function to add two things\n",
        "def my_func(var1, var2):\n",
        "  return var1 + var2\n",
        "\n",
        "print(my_func(5, 5))\n",
        "print(my_func(\"hello, \", \"world\"))\n",
        "#print(my_func(\"uh oh\", 5))\n",
        "\n",
        "def my_other_func(var1, var2=5):\n",
        "  return var1 + var2\n",
        "\n",
        "print(my_other_func(5, 8))\n",
        "print(my_other_func(5))\n",
        "\n",
        "def my_broken_func(var1=5, var2=2):\n",
        "  return var1 + var2\n",
        "\n",
        "print(my_broken_func())"
      ],
      "metadata": {
        "colab": {
          "base_uri": "https://localhost:8080/"
        },
        "id": "I8l_9utJs_Rv",
        "outputId": "fc1386b0-ec37-4e6c-c19c-1cc0c07026d6"
      },
      "execution_count": null,
      "outputs": [
        {
          "output_type": "stream",
          "name": "stdout",
          "text": [
            "10\n",
            "hello, world\n",
            "13\n",
            "10\n",
            "7\n"
          ]
        }
      ]
    },
    {
      "cell_type": "code",
      "source": [
        "#lets estiamte allele freq\n",
        "my_geno = [1, 2, 0, 0, 1, 2, 2, 2]\n",
        "freq = sum(my_geno) / (2 * len(my_geno))\n",
        "print(freq)"
      ],
      "metadata": {
        "colab": {
          "base_uri": "https://localhost:8080/"
        },
        "id": "K1jfKmaMuV6u",
        "outputId": "3fbec1f0-2eaa-4832-d51a-b341b3aa58de"
      },
      "execution_count": null,
      "outputs": [
        {
          "output_type": "stream",
          "name": "stdout",
          "text": [
            "0.625\n"
          ]
        }
      ]
    }
  ]
}