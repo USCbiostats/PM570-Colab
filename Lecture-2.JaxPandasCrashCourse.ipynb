{
  "nbformat": 4,
  "nbformat_minor": 0,
  "metadata": {
    "colab": {
      "provenance": [],
      "authorship_tag": "ABX9TyMRhTfXZbKIFLW+Fr1jI6F9",
      "include_colab_link": true
    },
    "kernelspec": {
      "name": "python3",
      "display_name": "Python 3"
    },
    "language_info": {
      "name": "python"
    }
  },
  "cells": [
    {
      "cell_type": "markdown",
      "metadata": {
        "id": "view-in-github",
        "colab_type": "text"
      },
      "source": [
        "<a href=\"https://colab.research.google.com/github/USCbiostats/PM570-Colab/blob/main/Lecture-2.JaxPandasCrashCourse.ipynb\" target=\"_parent\"><img src=\"https://colab.research.google.com/assets/colab-badge.svg\" alt=\"Open In Colab\"/></a>"
      ]
    },
    {
      "cell_type": "markdown",
      "source": [
        "## JAX and JAX.Numpy\n",
        "`jax` is a Google-backed library to enable automatic differentiation of Python code, while supporting ultra-fast runtime due to \"Just-In-Time\" (i.e. JIT) compilation from their custome bytecode (i.e. XLA). Hence JAX = **J**IT + **A**utoDiff + **X**LA. \n",
        "\n",
        "Let's practice importing JAX and using the `numpy` implementation backed by JAX. `numpy` is a Python library for n-dimensional arrays. Here we are using JAX's implementation, which will enable us to take advantage of all of JAX's features."
      ],
      "metadata": {
        "id": "7z3qkrvCV3GS"
      }
    },
    {
      "cell_type": "code",
      "execution_count": 2,
      "metadata": {
        "colab": {
          "base_uri": "https://localhost:8080/"
        },
        "id": "araRojk1ruYL",
        "outputId": "533524fc-0fa7-4bce-c735-2d66a3cf1eb5"
      },
      "outputs": [
        {
          "output_type": "stream",
          "name": "stderr",
          "text": [
            "WARNING:jax._src.lib.xla_bridge:No GPU/TPU found, falling back to CPU. (Set TF_CPP_MIN_LOG_LEVEL=0 and rerun for more info.)\n"
          ]
        },
        {
          "output_type": "stream",
          "name": "stdout",
          "text": [
            "x = [0 1 2 3 4 5 6 7 8] | y = [1. 1. 1. 1. 1. 1. 1. 1. 1.]\n",
            "z = [1. 2. 3. 4. 5. 6. 7. 8. 9.] | x + 1 = [1 2 3 4 5 6 7 8 9]\n",
            "i = [[1. 0. 0. 0.]\n",
            " [0. 1. 0. 0.]\n",
            " [0. 0. 1. 0.]\n",
            " [0. 0. 0. 1.]] | a = [2. 2. 2. 2.]\n",
            "b = [[2. 0. 0. 0.]\n",
            " [0. 2. 0. 0.]\n",
            " [0. 0. 2. 0.]\n",
            " [0. 0. 0. 2.]]\n",
            "A = [[5. 1.]\n",
            " [1. 5.]]\n",
            "b = [[10.  2.]\n",
            " [ 2. 10.]]\n",
            "b = [12. 12.]\n",
            "b = [12. 12.]\n"
          ]
        }
      ],
      "source": [
        "import jax\n",
        "import jax.numpy as jnp\n",
        "import jax.random as rdm\n",
        "\n",
        "# readr::read_tsv\n",
        "# let's practice some numpy tricks\n",
        "x = jnp.arange(9)\n",
        "y = jnp.ones(9)\n",
        "print(f\"x = {x} | y = {y}\")\n",
        "\n",
        "z = x + y\n",
        "print(f\"z = {z} | x + 1 = {x + 1}\")\n",
        "\n",
        "P = 4\n",
        "i = jnp.eye(P)\n",
        "a = 2 * jnp.ones(P)\n",
        "print(f\"i = {i} | a = {a}\")\n",
        "\n",
        "# is this mat/vec mult?\n",
        "b = i * a\n",
        "print(f\"b = {b}\")\n",
        "\n",
        "A = jnp.array([[5., 1], [1, 5]])\n",
        "a = 2 * jnp.ones(2)\n",
        "print(f\"A = {A}\")\n",
        "b = A * a\n",
        "print(f\"b = {b}\")\n",
        "\n",
        "# nope! b is matrix; mat/vec mult => vec\n",
        "b = A @ a\n",
        "print(f\"b = {b}\")\n",
        "b = jnp.dot(A, a)\n",
        "print(f\"b = {b}\")"
      ]
    },
    {
      "cell_type": "code",
      "source": [
        "# random variables in JAX\n",
        "key = rdm.PRNGKey(0)\n",
        "\n",
        "key, y_key = rdm.split(key)\n",
        "N = 5\n",
        "mu_y = 50\n",
        "std_y = 100\n",
        "y = mu_y + std_y * rdm.normal(y_key, shape=(N,)) # y_i ~ N(mu_y, std_y)\n",
        "print(f\"y = {y}\")\n",
        "\n"
      ],
      "metadata": {
        "colab": {
          "base_uri": "https://localhost:8080/"
        },
        "id": "ZGJ19sWvvBUw",
        "outputId": "8f3c66b5-6ebe-453e-a01c-df1499506f22"
      },
      "execution_count": 3,
      "outputs": [
        {
          "output_type": "stream",
          "name": "stdout",
          "text": [
            "y = [ -95.8194  -154.7044   254.73392  166.84094  -47.58364]\n"
          ]
        }
      ]
    },
    {
      "cell_type": "code",
      "source": [
        "import jax.scipy.stats as stats\n",
        "\n",
        "N = 500_000\n",
        "\n",
        "key = rdm.PRNGKey(0)\n",
        "\n",
        "# simulate genotype\n",
        "freq = 0.1\n",
        "key, h1_key, h2_key = rdm.split(key, 3)\n",
        "h1 = rdm.bernoulli(h1_key, freq, shape=(N,)).astype(int) \n",
        "h2 = rdm.bernoulli(h2_key, freq, shape=(N,)).astype(int) \n",
        "x = h1 + h2\n",
        "x = x - 2 * freq\n",
        "\n",
        "# simulate phenotype as a function of genotype\n",
        "h2g = 1e-4\n",
        "key, b_key = rdm.split(key)\n",
        "beta = rdm.normal(b_key)\n",
        "g = x * beta\n",
        "s2g = jnp.var(g)\n",
        "s2e = ((1 / h2g) - 1) * s2g # h2g = s2g / (s2g + s2e) => \n",
        "\n",
        "# phenotype = genetic component + env noise\n",
        "key, y_key = rdm.split(key)\n",
        "y = g + jnp.sqrt(s2e) * rdm.normal(y_key, shape=(N,))\n",
        "y = y - jnp.mean(y)\n",
        "\n",
        "#print(f\"y = {y}\")\n",
        "\n",
        "beta_hat =  (x.T @ y) / (x.T @ x) # (x.T x)^-1 x.T y\n",
        "s2e_hat = jnp.mean((y - x * beta_hat) ** 2)\n",
        "se_beta = jnp.sqrt(s2e_hat / (x.T @ x))\n",
        "\n",
        "print(f\" beta = {beta} | hat(beta) = {beta_hat} | se(hat(beta)) = {se_beta}\")\n",
        "z = beta_hat / se_beta\n",
        "print(f\"z = {z} | p-value = {2*stats.norm.cdf(-jnp.fabs(z))}\")"
      ],
      "metadata": {
        "colab": {
          "base_uri": "https://localhost:8080/"
        },
        "id": "lEodk7fH0hfs",
        "outputId": "87124866-d9a2-45b5-c499-bf80f326debc"
      },
      "execution_count": 4,
      "outputs": [
        {
          "output_type": "stream",
          "name": "stdout",
          "text": [
            " beta = -0.1399441361427307 | hat(beta) = -0.1588948369026184 | se(hat(beta)) = 0.019815918058156967\n",
            "z = -8.018545150756836 | p-value = 1.0700497342445428e-15\n"
          ]
        }
      ]
    },
    {
      "cell_type": "markdown",
      "source": [
        "## LAX and functional design patterns\n",
        "\n",
        "`jax.lax.scan` provides a means to scan along an axis of `ndarray` while carrying state along with it. The psuedocode for `scan` looks like, \n",
        "```python\n",
        "def scan(func, init, xs, length=None):\n",
        "  if xs is None:\n",
        "    xs = [None] * length\n",
        "  carry = init\n",
        "  ys = []\n",
        "  for x in xs:\n",
        "    carry, y = func(carry, x)\n",
        "    ys.append(y)\n",
        "  return carry, np.stack(ys)\n",
        "  ```\n",
        "\n",
        "  Let's see how this can be useful for GWAS..."
      ],
      "metadata": {
        "id": "cuSTu-2pRQEU"
      }
    },
    {
      "cell_type": "code",
      "source": [
        "import jax.lax as lax\n",
        "\n",
        "# simulate geno + pheno\n",
        "N = 10_000\n",
        "P = 1000\n",
        "\n",
        "key = rdm.PRNGKey(0)\n",
        "\n",
        "# simulate genotype\n",
        "freq = 0.1\n",
        "key, h1_key, h2_key = rdm.split(key, 3)\n",
        "h1 = rdm.bernoulli(h1_key, freq, shape=(N,P)).astype(int) \n",
        "h2 = rdm.bernoulli(h2_key, freq, shape=(N,P)).astype(int) \n",
        "X = h1 + h2\n",
        "X = X - 2 * freq\n",
        "\n",
        "# simulate phenotype as a function of genotype\n",
        "h2g = 1e-4\n",
        "key, b_key = rdm.split(key)\n",
        "beta = rdm.normal(b_key, shape=(P,))\n",
        "G = X @ beta\n",
        "s2g = jnp.var(G)\n",
        "s2e = ((1 / h2g) - 1) * s2g # h2g = s2g / (s2g + s2e) => \n",
        "\n",
        "# phenotype = genetic component + env noise\n",
        "key, y_key = rdm.split(key)\n",
        "y = G + jnp.sqrt(s2e) * rdm.normal(y_key, shape=(N,))\n",
        "y = y - jnp.mean(y)\n",
        "\n",
        "# lets write a function that performs OLS between a single variant and y, and\n",
        "# reports the effect size estimate, its SE, and pvalue\n",
        "\n",
        "# scan results a 'carry' that keeps state going forward\n",
        "# here we dont require changing state. all we need to\n",
        "# do is keep passing phenotype along\n",
        "def ols_scan(y, x):\n",
        "  xtx = x.T @ x\n",
        "  beta_hat =  (x.T @ y) / (xtx) # (x.T x)^-1 x.T y\n",
        "  s2e_hat = jnp.mean((y - x * beta_hat) ** 2)\n",
        "  se_beta = jnp.sqrt(s2e_hat / (xtx))\n",
        "  p_val = 2*stats.norm.cdf(-jnp.fabs(beta_hat / se_beta))\n",
        "\n",
        "  # scan requires we return updated state (i.e. same y)\n",
        "  # along with the result\n",
        "  return y, jnp.array([beta_hat, se_beta, p_val])\n",
        "\n",
        "_, gwas_res = lax.scan(ols_scan, y, X.T)\n",
        "\n",
        "# print first 5 results...\n",
        "print(\"BETA\\tSE\\tPVal\")\n",
        "print(gwas_res[:5])"
      ],
      "metadata": {
        "colab": {
          "base_uri": "https://localhost:8080/"
        },
        "id": "xNHIFyDXRPHK",
        "outputId": "dfb19830-50bb-45aa-c7d7-f229120943d4"
      },
      "execution_count": 9,
      "outputs": [
        {
          "output_type": "stream",
          "name": "stdout",
          "text": [
            "BETA\tSE\tPVal\n",
            "[[-11.807892    31.55952      0.7082951 ]\n",
            " [  8.070707    31.307985     0.7965734 ]\n",
            " [ 24.326462    31.32242      0.43736708]\n",
            " [ -0.281418    32.09645      0.9930043 ]\n",
            " [ 14.883338    31.868835     0.64048654]]\n"
          ]
        }
      ]
    },
    {
      "cell_type": "markdown",
      "source": [
        "Pandas is a Python library for datatable/dataframe like data structures.\n",
        "Let's take our GWAS results and convert to dataframe for easier manipulation"
      ],
      "metadata": {
        "id": "_iQkLh-CVFsa"
      }
    },
    {
      "cell_type": "code",
      "source": [
        "import pandas as pd\n",
        "\n",
        "df_gwas = pd.DataFrame(gwas_res, columns=[\"BETA\", \"SE\", \"PVal\"])\n",
        "print(df_gwas.head())"
      ],
      "metadata": {
        "colab": {
          "base_uri": "https://localhost:8080/"
        },
        "id": "Ne6nAl9qVOk7",
        "outputId": "acafb40f-bee2-4732-ca2b-9a1b0f587d5f"
      },
      "execution_count": 10,
      "outputs": [
        {
          "output_type": "stream",
          "name": "stdout",
          "text": [
            "         BETA         SE        PVal\n",
            "0  -11.807892   31.55952   0.7082951\n",
            "1    8.070707  31.307985   0.7965734\n",
            "2   24.326462   31.32242  0.43736708\n",
            "3   -0.281418   32.09645   0.9930043\n",
            "4   14.883338  31.868835  0.64048654\n"
          ]
        }
      ]
    }
  ]
}