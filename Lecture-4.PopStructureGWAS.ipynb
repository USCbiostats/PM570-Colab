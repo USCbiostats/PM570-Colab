{
  "nbformat": 4,
  "nbformat_minor": 0,
  "metadata": {
    "colab": {
      "provenance": [],
      "authorship_tag": "ABX9TyPPLLMzQBAAcsEOX7XpfcxC",
      "include_colab_link": true
    },
    "kernelspec": {
      "name": "python3",
      "display_name": "Python 3"
    },
    "language_info": {
      "name": "python"
    }
  },
  "cells": [
    {
      "cell_type": "markdown",
      "metadata": {
        "id": "view-in-github",
        "colab_type": "text"
      },
      "source": [
        "<a href=\"https://colab.research.google.com/github/USCbiostats/PM570-Colab/blob/main/Lecture-4.PopStructureGWAS.ipynb\" target=\"_parent\"><img src=\"https://colab.research.google.com/assets/colab-badge.svg\" alt=\"Open In Colab\"/></a>"
      ]
    },
    {
      "cell_type": "code",
      "execution_count": 1,
      "metadata": {
        "colab": {
          "base_uri": "https://localhost:8080/"
        },
        "id": "xJpGcVbT9ebr",
        "outputId": "96f1f446-1fb5-4ee1-8d24-3f5e37b234a3"
      },
      "outputs": [
        {
          "output_type": "stream",
          "name": "stdout",
          "text": [
            "rm: cannot remove '/content/PM570-Colab/': No such file or directory\n",
            "Cloning into 'PM570-Colab'...\n",
            "remote: Enumerating objects: 191, done.\u001b[K\n",
            "remote: Counting objects: 100% (191/191), done.\u001b[K\n",
            "remote: Compressing objects: 100% (142/142), done.\u001b[K\n",
            "remote: Total 191 (delta 98), reused 124 (delta 44), pack-reused 0\u001b[K\n",
            "Receiving objects: 100% (191/191), 46.80 KiB | 1.80 MiB/s, done.\n",
            "Resolving deltas: 100% (98/98), done.\n",
            "Looking in indexes: https://pypi.org/simple, https://us-python.pkg.dev/colab-wheels/public/simple/\n",
            "Collecting pandas_plink\n",
            "  Downloading pandas_plink-2.2.9-cp39-cp39-manylinux2010_x86_64.whl (100 kB)\n",
            "\u001b[2K     \u001b[90m━━━━━━━━━━━━━━━━━━━━━━━━━━━━━━━━━━━━━━━\u001b[0m \u001b[32m100.4/100.4 KB\u001b[0m \u001b[31m3.1 MB/s\u001b[0m eta \u001b[36m0:00:00\u001b[0m\n",
            "\u001b[?25hRequirement already satisfied: cffi>=1.14.3 in /usr/local/lib/python3.9/dist-packages (from pandas_plink) (1.15.1)\n",
            "Requirement already satisfied: dask[array,dataframe]>=2.6.0 in /usr/local/lib/python3.9/dist-packages (from pandas_plink) (2022.2.1)\n",
            "Requirement already satisfied: pandas>=1.1.3 in /usr/local/lib/python3.9/dist-packages (from pandas_plink) (1.3.5)\n",
            "Requirement already satisfied: numpy>=1.17.2 in /usr/local/lib/python3.9/dist-packages (from pandas_plink) (1.22.4)\n",
            "Collecting zstandard>=0.13.0\n",
            "  Downloading zstandard-0.20.0-cp39-cp39-manylinux_2_17_x86_64.manylinux2014_x86_64.whl (2.6 MB)\n",
            "\u001b[2K     \u001b[90m━━━━━━━━━━━━━━━━━━━━━━━━━━━━━━━━━━━━━━━━\u001b[0m \u001b[32m2.6/2.6 MB\u001b[0m \u001b[31m25.5 MB/s\u001b[0m eta \u001b[36m0:00:00\u001b[0m\n",
            "\u001b[?25hRequirement already satisfied: xarray>=0.18.2 in /usr/local/lib/python3.9/dist-packages (from pandas_plink) (2022.12.0)\n",
            "Collecting Deprecated>=1.2.6\n",
            "  Downloading Deprecated-1.2.13-py2.py3-none-any.whl (9.6 kB)\n",
            "Collecting pytest>=5.2.2\n",
            "  Downloading pytest-7.2.2-py3-none-any.whl (317 kB)\n",
            "\u001b[2K     \u001b[90m━━━━━━━━━━━━━━━━━━━━━━━━━━━━━━━━━━━━━━\u001b[0m \u001b[32m317.2/317.2 KB\u001b[0m \u001b[31m19.4 MB/s\u001b[0m eta \u001b[36m0:00:00\u001b[0m\n",
            "\u001b[?25hRequirement already satisfied: tqdm>=4.36.1 in /usr/local/lib/python3.9/dist-packages (from pandas_plink) (4.65.0)\n",
            "Requirement already satisfied: pycparser in /usr/local/lib/python3.9/dist-packages (from cffi>=1.14.3->pandas_plink) (2.21)\n",
            "Requirement already satisfied: packaging>=20.0 in /usr/local/lib/python3.9/dist-packages (from dask[array,dataframe]>=2.6.0->pandas_plink) (23.0)\n",
            "Requirement already satisfied: cloudpickle>=1.1.1 in /usr/local/lib/python3.9/dist-packages (from dask[array,dataframe]>=2.6.0->pandas_plink) (2.2.1)\n",
            "Requirement already satisfied: fsspec>=0.6.0 in /usr/local/lib/python3.9/dist-packages (from dask[array,dataframe]>=2.6.0->pandas_plink) (2023.3.0)\n",
            "Requirement already satisfied: toolz>=0.8.2 in /usr/local/lib/python3.9/dist-packages (from dask[array,dataframe]>=2.6.0->pandas_plink) (0.12.0)\n",
            "Requirement already satisfied: pyyaml>=5.3.1 in /usr/local/lib/python3.9/dist-packages (from dask[array,dataframe]>=2.6.0->pandas_plink) (6.0)\n",
            "Requirement already satisfied: partd>=0.3.10 in /usr/local/lib/python3.9/dist-packages (from dask[array,dataframe]>=2.6.0->pandas_plink) (1.3.0)\n",
            "Requirement already satisfied: wrapt<2,>=1.10 in /usr/local/lib/python3.9/dist-packages (from Deprecated>=1.2.6->pandas_plink) (1.15.0)\n",
            "Requirement already satisfied: pytz>=2017.3 in /usr/local/lib/python3.9/dist-packages (from pandas>=1.1.3->pandas_plink) (2022.7.1)\n",
            "Requirement already satisfied: python-dateutil>=2.7.3 in /usr/local/lib/python3.9/dist-packages (from pandas>=1.1.3->pandas_plink) (2.8.2)\n",
            "Collecting iniconfig\n",
            "  Downloading iniconfig-2.0.0-py3-none-any.whl (5.9 kB)\n",
            "Requirement already satisfied: tomli>=1.0.0 in /usr/local/lib/python3.9/dist-packages (from pytest>=5.2.2->pandas_plink) (2.0.1)\n",
            "Collecting pluggy<2.0,>=0.12\n",
            "  Downloading pluggy-1.0.0-py2.py3-none-any.whl (13 kB)\n",
            "Requirement already satisfied: attrs>=19.2.0 in /usr/local/lib/python3.9/dist-packages (from pytest>=5.2.2->pandas_plink) (22.2.0)\n",
            "Collecting exceptiongroup>=1.0.0rc8\n",
            "  Downloading exceptiongroup-1.1.0-py3-none-any.whl (14 kB)\n",
            "Requirement already satisfied: locket in /usr/local/lib/python3.9/dist-packages (from partd>=0.3.10->dask[array,dataframe]>=2.6.0->pandas_plink) (1.0.0)\n",
            "Requirement already satisfied: six>=1.5 in /usr/local/lib/python3.9/dist-packages (from python-dateutil>=2.7.3->pandas>=1.1.3->pandas_plink) (1.15.0)\n",
            "Installing collected packages: zstandard, pluggy, iniconfig, exceptiongroup, Deprecated, pytest, pandas_plink\n",
            "  Attempting uninstall: pluggy\n",
            "    Found existing installation: pluggy 0.7.1\n",
            "    Uninstalling pluggy-0.7.1:\n",
            "      Successfully uninstalled pluggy-0.7.1\n",
            "  Attempting uninstall: pytest\n",
            "    Found existing installation: pytest 3.6.4\n",
            "    Uninstalling pytest-3.6.4:\n",
            "      Successfully uninstalled pytest-3.6.4\n",
            "Successfully installed Deprecated-1.2.13 exceptiongroup-1.1.0 iniconfig-2.0.0 pandas_plink-2.2.9 pluggy-1.0.0 pytest-7.2.2 zstandard-0.20.0\n",
            "--2023-03-10 23:18:06--  https://github.com/mancusolab/sushie/raw/main/data/plink/EUR.bed\n",
            "Resolving github.com (github.com)... 140.82.113.4\n",
            "Connecting to github.com (github.com)|140.82.113.4|:443... connected.\n",
            "HTTP request sent, awaiting response... 302 Found\n",
            "Location: https://raw.githubusercontent.com/mancusolab/sushie/main/data/plink/EUR.bed [following]\n",
            "--2023-03-10 23:18:07--  https://raw.githubusercontent.com/mancusolab/sushie/main/data/plink/EUR.bed\n",
            "Resolving raw.githubusercontent.com (raw.githubusercontent.com)... 185.199.108.133, 185.199.109.133, 185.199.110.133, ...\n",
            "Connecting to raw.githubusercontent.com (raw.githubusercontent.com)|185.199.108.133|:443... connected.\n",
            "HTTP request sent, awaiting response... 200 OK\n",
            "Length: 15132 (15K) [application/octet-stream]\n",
            "Saving to: ‘EUR.bed’\n",
            "\n",
            "EUR.bed             100%[===================>]  14.78K  --.-KB/s    in 0s      \n",
            "\n",
            "2023-03-10 23:18:07 (39.7 MB/s) - ‘EUR.bed’ saved [15132/15132]\n",
            "\n",
            "--2023-03-10 23:18:07--  https://github.com/mancusolab/sushie/raw/main/data/plink/EUR.bim\n",
            "Resolving github.com (github.com)... 140.82.113.3\n",
            "Connecting to github.com (github.com)|140.82.113.3|:443... connected.\n",
            "HTTP request sent, awaiting response... 302 Found\n",
            "Location: https://raw.githubusercontent.com/mancusolab/sushie/main/data/plink/EUR.bim [following]\n",
            "--2023-03-10 23:18:07--  https://raw.githubusercontent.com/mancusolab/sushie/main/data/plink/EUR.bim\n",
            "Resolving raw.githubusercontent.com (raw.githubusercontent.com)... 185.199.110.133, 185.199.108.133, 185.199.109.133, ...\n",
            "Connecting to raw.githubusercontent.com (raw.githubusercontent.com)|185.199.110.133|:443... connected.\n",
            "HTTP request sent, awaiting response... 200 OK\n",
            "Length: 4066 (4.0K) [text/plain]\n",
            "Saving to: ‘EUR.bim’\n",
            "\n",
            "EUR.bim             100%[===================>]   3.97K  --.-KB/s    in 0s      \n",
            "\n",
            "2023-03-10 23:18:07 (68.6 MB/s) - ‘EUR.bim’ saved [4066/4066]\n",
            "\n",
            "--2023-03-10 23:18:07--  https://github.com/mancusolab/sushie/raw/main/data/plink/EUR.fam\n",
            "Resolving github.com (github.com)... 140.82.114.4\n",
            "Connecting to github.com (github.com)|140.82.114.4|:443... connected.\n",
            "HTTP request sent, awaiting response... 302 Found\n",
            "Location: https://raw.githubusercontent.com/mancusolab/sushie/main/data/plink/EUR.fam [following]\n",
            "--2023-03-10 23:18:08--  https://raw.githubusercontent.com/mancusolab/sushie/main/data/plink/EUR.fam\n",
            "Resolving raw.githubusercontent.com (raw.githubusercontent.com)... 185.199.111.133, 185.199.109.133, 185.199.110.133, ...\n",
            "Connecting to raw.githubusercontent.com (raw.githubusercontent.com)|185.199.111.133|:443... connected.\n",
            "HTTP request sent, awaiting response... 200 OK\n",
            "Length: 9291 (9.1K) [text/plain]\n",
            "Saving to: ‘EUR.fam’\n",
            "\n",
            "EUR.fam             100%[===================>]   9.07K  --.-KB/s    in 0s      \n",
            "\n",
            "2023-03-10 23:18:08 (93.1 MB/s) - ‘EUR.fam’ saved [9291/9291]\n",
            "\n"
          ]
        }
      ],
      "source": [
        "!rm -r /content/PM570-Colab/\n",
        "!git clone https://github.com/USCbiostats/PM570-Colab.git\n",
        "!pip install pandas_plink\n",
        "!wget https://github.com/mancusolab/sushie/raw/main/data/plink/EUR.bed\n",
        "!wget https://github.com/mancusolab/sushie/raw/main/data/plink/EUR.bim\n",
        "!wget https://github.com/mancusolab/sushie/raw/main/data/plink/EUR.fam"
      ]
    },
    {
      "cell_type": "code",
      "source": [
        "import sys\n",
        "sys.path.append('/content/PM570-Colab/')\n",
        "\n",
        "import jax\n",
        "import jax.numpy as jnp\n",
        "import jax.numpy.linalg as jnpla\n",
        "import jax.random as rdm\n",
        "import jax.scipy.linalg as jspla\n",
        "import jax.scipy.stats as stats\n",
        "\n",
        "# lets make sure we're using 64bit precision to not lose accuracy\n",
        "# in our GWAS results\n",
        "# again, this only works on startup!\n",
        "from jax.config import config\n",
        "config.update(\"jax_enable_x64\", True)\n",
        "\n",
        "from sim import geno, trait\n",
        "from util import gwas\n",
        "\n",
        "N = 5000\n",
        "P = 10_000\n",
        "PROP = 0.1\n",
        "H2G = 0.1\n",
        "\n",
        "key = rdm.PRNGKey(0)\n",
        "key, geno_key, trait_key = rdm.split(key, 3)\n",
        "\n",
        "# simulate genotype w/o LD\n",
        "X = geno.naive_sim_genotype(N, P, geno_key)\n",
        "\n",
        "# center and standardized genotype\n",
        "X = X - jnp.mean(X, axis=0)\n",
        "X = X / jnp.std(X, axis=0)\n",
        "\n",
        "# compute GRM\n",
        "A = X @ X.T / P\n",
        "\n",
        "# compute eigendecomposition of A = U @ D @ U.T\n",
        "D, U = jnpla.eigh(A)\n",
        "D = D.astype(float)\n",
        "U = U.astype(float)\n",
        "\n",
        "# simulate phenotype using genotype data\n",
        "y = trait.naive_trait_sim(X, PROP, H2G, trait_key)\n",
        "y = y - jnp.mean(y)\n",
        "y = y / jnp.std(y)\n",
        "\n",
        "\n",
        "def normal_h2g_likelihood(params: jnp.ndarray, y: jnp.ndarray, A: jnp.ndarray) -> float:\n",
        "  \"\"\" evaluate the likelhood under the linear mixed model of\n",
        "      y ~ N(0, A s2g + I s2e) =>\n",
        "      y ~ N(0, V) for V = A s2g + I s2e\n",
        "\n",
        "  Args:\n",
        "    params: the variance components [s2g, s2e]\n",
        "    y: phenotype\n",
        "    A: GRM\n",
        "  \n",
        "  Returns:\n",
        "    float: the neg log likelihood\n",
        "  \"\"\"\n",
        "  n = len(y)\n",
        "  V = params[0] * A + params[1] * jnp.eye(n)\n",
        "  L = jnpla.cholesky(V)\n",
        "\n",
        "  # rotate y to independent basis\n",
        "  # inv(L) @ y => N(0, inv(L) @ V @ inv(L).T)\n",
        "  #            =  N(0, inv(L) @ L @ L.T @ inv(L).T)\n",
        "  #            =  N(0, I @ I) = N(0, I)\n",
        "  y_r = jspla.cho_solve((L, True), y)\n",
        "\n",
        "  return -jnp.sum(stats.norm.logpdf(y_r, loc=0., scale=1.))\n"
      ],
      "metadata": {
        "colab": {
          "base_uri": "https://localhost:8080/"
        },
        "id": "oO-xkDjd9wmu",
        "outputId": "63d4bce2-0ee1-4b38-b2fe-25e2d7f03f5b"
      },
      "execution_count": 2,
      "outputs": [
        {
          "output_type": "stream",
          "name": "stderr",
          "text": [
            "WARNING:jax._src.lib.xla_bridge:No GPU/TPU found, falling back to CPU. (Set TF_CPP_MIN_LOG_LEVEL=0 and rerun for more info.)\n",
            "/usr/local/lib/python3.9/dist-packages/jax/_src/lax/lax.py:554: ComplexWarning: Casting complex values to real discards the imaginary part\n",
            "  return _convert_element_type(operand, new_dtype, weak_type=False)\n"
          ]
        }
      ]
    },
    {
      "cell_type": "code",
      "source": [
        "# let's use gradient descent to infer h2g\n",
        "nll_vandg = jax.jit(jax.value_and_grad(normal_h2g_likelihood))\n",
        "step_size = 1e-1\n",
        "loss = 10000\n",
        "max_iter = 10\n",
        "tol = 1e-3\n",
        "\n",
        "# init params\n",
        "params = 0.5 * jnp.ones(2)\n",
        "for idx in range(max_iter):\n",
        "  loss_i, nllgrad = nll_vandg(params, y, A)\n",
        "  print(f\"Iter = {idx} | Params = {params} | nLL = {loss_i}\")\n",
        "  params = params - step_size * nllgrad\n",
        "  if jnp.fabs(loss_i - loss) < tol:\n",
        "    break\n",
        "  loss = loss_i\n",
        "\n",
        "print(f\"Var components = {params}\")"
      ],
      "metadata": {
        "colab": {
          "base_uri": "https://localhost:8080/",
          "height": 271
        },
        "id": "pKH4_-3mA8PW",
        "outputId": "41314d95-f4a5-41c3-c1c2-425bbfb51798"
      },
      "execution_count": 4,
      "outputs": [
        {
          "output_type": "stream",
          "name": "stdout",
          "text": [
            "Iter = 0 | Params = [0.5 0.5] | nLL = 7953.708847219411\n",
            "Iter = 1 | Params = [451.25347347 893.35299901] | nLL = 4594.69422967721\n"
          ]
        },
        {
          "output_type": "error",
          "ename": "KeyboardInterrupt",
          "evalue": "ignored",
          "traceback": [
            "\u001b[0;31m---------------------------------------------------------------------------\u001b[0m",
            "\u001b[0;31mKeyboardInterrupt\u001b[0m                         Traceback (most recent call last)",
            "\u001b[0;32m<ipython-input-4-812954d08895>\u001b[0m in \u001b[0;36m<module>\u001b[0;34m\u001b[0m\n\u001b[1;32m      9\u001b[0m \u001b[0mparams\u001b[0m \u001b[0;34m=\u001b[0m \u001b[0;36m0.5\u001b[0m \u001b[0;34m*\u001b[0m \u001b[0mjnp\u001b[0m\u001b[0;34m.\u001b[0m\u001b[0mones\u001b[0m\u001b[0;34m(\u001b[0m\u001b[0;36m2\u001b[0m\u001b[0;34m)\u001b[0m\u001b[0;34m\u001b[0m\u001b[0;34m\u001b[0m\u001b[0m\n\u001b[1;32m     10\u001b[0m \u001b[0;32mfor\u001b[0m \u001b[0midx\u001b[0m \u001b[0;32min\u001b[0m \u001b[0mrange\u001b[0m\u001b[0;34m(\u001b[0m\u001b[0mmax_iter\u001b[0m\u001b[0;34m)\u001b[0m\u001b[0;34m:\u001b[0m\u001b[0;34m\u001b[0m\u001b[0;34m\u001b[0m\u001b[0m\n\u001b[0;32m---> 11\u001b[0;31m   \u001b[0mloss_i\u001b[0m\u001b[0;34m,\u001b[0m \u001b[0mnllgrad\u001b[0m \u001b[0;34m=\u001b[0m \u001b[0mnll_vandg\u001b[0m\u001b[0;34m(\u001b[0m\u001b[0mparams\u001b[0m\u001b[0;34m,\u001b[0m \u001b[0my\u001b[0m\u001b[0;34m,\u001b[0m \u001b[0mA\u001b[0m\u001b[0;34m)\u001b[0m\u001b[0;34m\u001b[0m\u001b[0;34m\u001b[0m\u001b[0m\n\u001b[0m\u001b[1;32m     12\u001b[0m   \u001b[0mprint\u001b[0m\u001b[0;34m(\u001b[0m\u001b[0;34mf\"Iter = {idx} | Params = {params} | nLL = {loss_i}\"\u001b[0m\u001b[0;34m)\u001b[0m\u001b[0;34m\u001b[0m\u001b[0;34m\u001b[0m\u001b[0m\n\u001b[1;32m     13\u001b[0m   \u001b[0mparams\u001b[0m \u001b[0;34m=\u001b[0m \u001b[0mparams\u001b[0m \u001b[0;34m-\u001b[0m \u001b[0mstep_size\u001b[0m \u001b[0;34m*\u001b[0m \u001b[0mnllgrad\u001b[0m\u001b[0;34m\u001b[0m\u001b[0;34m\u001b[0m\u001b[0m\n",
            "\u001b[0;31mKeyboardInterrupt\u001b[0m: "
          ]
        }
      ]
    },
    {
      "cell_type": "code",
      "source": [
        "EPS = 1e-5\n",
        "\n",
        "def normal_h2g_likelihood_fast(params: jnp.ndarray, Uty: jnp.ndarray, D: jnp.ndarray) -> float:\n",
        "  \"\"\" Implements the Fast-LMM idea from Lippert et al. Nat Meth 2011.\n",
        "  \n",
        "  Evaluate the likelhood under the linear mixed model of\n",
        "      y ~ N(0, A s2g + I s2e) =>\n",
        "      y ~ N(0, U D Ut s2g + I s2e); recall that inv(U) = Ut; recall U @ Ut = I\n",
        "      Ut @ y ~ N(0, Ut [U D Ut s2g + I s2e ] U) =>\n",
        "             ~ N(0, Ut U D Ut U s2g + Ut U s2e) =>\n",
        "             ~ N(0, I D I s2g + I s2e) =>\n",
        "             ~ N(0, D s2g + I s2e)\n",
        "\n",
        "\n",
        "  Args:\n",
        "    params: the variance components [s2g, s2e]\n",
        "    Uty: phenotype rotated from eigenvectors of A\n",
        "    D: Eigenvalues of A\n",
        "  \n",
        "  Returns:\n",
        "    float: the neg log likelihood\n",
        "  \"\"\"\n",
        "  s2g = params[0]\n",
        "  s2e = params[1]\n",
        "\n",
        "  v = s2g * D + s2e\n",
        "\n",
        "  return -jnp.sum(stats.norm.logpdf(Uty, loc=0., scale=jnp.sqrt(v + EPS)))\n",
        "  \n",
        "\n",
        "# let's use gradient descent to infer h2g\n",
        "nll_vandg = jax.jit(jax.value_and_grad(normal_h2g_likelihood_fast))\n",
        "step_size = 1e-1\n",
        "loss = 10000\n",
        "max_iter = 10\n",
        "tol = 1e-3\n",
        "\n",
        "# init params\n",
        "params = 0.5 * jnp.ones(2)\n",
        "Uty = U.T @ y\n",
        "for idx in range(max_iter):\n",
        "  loss_i, nllgrad = nll_vandg(params, Uty, D)\n",
        "  print(f\"Iter = {idx} | Params = {params} | nLL = {loss_i}\")\n",
        "  params = params - step_size * nllgrad\n",
        "  # keep parameters in valid variance space\n",
        "  params = jnp.where(params < 0, 0.001, params)\n",
        "  if jnp.fabs(loss_i - loss) < tol:\n",
        "    break\n",
        "  loss = loss_i\n",
        "\n",
        "print(f\"Var components = {params}\")\n",
        "print(f\"h2g = {params[0] / sum(params)}\")"
      ],
      "metadata": {
        "colab": {
          "base_uri": "https://localhost:8080/"
        },
        "id": "ZxDvqRgXDmZl",
        "outputId": "59052b2f-5efa-4786-de87-3c024befde6e"
      },
      "execution_count": 6,
      "outputs": [
        {
          "output_type": "stream",
          "name": "stdout",
          "text": [
            "Iter = 0 | Params = [0.5 0.5] | nLL = 7195.181142440659\n",
            "Iter = 1 | Params = [1.00000000e-03 5.56020455e+01] | nLL = 14685.249574307632\n",
            "Iter = 2 | Params = [1.00000000e-03 5.11867513e+01] | nLL = 14482.283585533994\n",
            "Iter = 3 | Params = [1.00000000e-03 4.63981842e+01] | nLL = 14241.778088869592\n",
            "Iter = 4 | Params = [1.00000000e-03 4.11262826e+01] | nLL = 13947.159367682083\n",
            "Iter = 5 | Params = [1.00000000e-03 3.51953956e+01] | nLL = 13568.08246044856\n",
            "Iter = 6 | Params = [1.00000000e-03 2.82942073e+01] | nLL = 13039.778653982601\n",
            "Iter = 7 | Params = [1.00000000e-03 1.97710491e+01] | nLL = 12181.807890310214\n",
            "Iter = 8 | Params = [1.00000000e-03 7.76643433e+00] | nLL = 10041.399937863378\n",
            "Iter = 9 | Params = [0.001 0.001] | nLL = 1355381.4447830908\n",
            "Var components = [52836981.01163648 82731541.8832707 ]\n",
            "h2g = 0.3897437243053518\n"
          ]
        }
      ]
    },
    {
      "cell_type": "code",
      "source": [
        "from functools import partial\n",
        "from util.optimization import newton_cg\n",
        "\n",
        "# init params\n",
        "params = 0.5 * jnp.ones(2)\n",
        "Uty = U.T @ y\n",
        "\n",
        "loss_f = jax.jit(partial(normal_h2g_likelihood_fast, Uty=Uty, D=D))\n",
        "_, loss, num_iter, params = newton_cg(loss_f, params, step_size, max_iter)\n",
        "\n",
        "\n",
        "print(f\"Number of iterations = {num_iter} | loss = {loss}\")\n",
        "print(f\"Var components = {params}\")\n",
        "print(f\"hat(h2g) = {params[0] / sum(params)}\")\n",
        "print(f\"h2g = {H2G}\")"
      ],
      "metadata": {
        "colab": {
          "base_uri": "https://localhost:8080/"
        },
        "id": "mZpKLeY9Hb4v",
        "outputId": "bab2ef47-72f0-4242-8b14-3b21b3e14716"
      },
      "execution_count": 12,
      "outputs": [
        {
          "output_type": "stream",
          "name": "stdout",
          "text": [
            "Number of iterations = 3 | loss = 7089.511819831592\n",
            "Var components = [0.09400057 0.90467083]\n",
            "hat(h2g) = 0.09412562464453532\n",
            "h2g = 0.1\n"
          ]
        }
      ]
    }
  ]
}